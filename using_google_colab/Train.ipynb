{
 "cells": [
  {
   "cell_type": "code",
   "execution_count": null,
   "metadata": {},
   "outputs": [],
   "source": [
    "from google.colab import drive\n",
    "\n",
    "drive.mount('/content/gdrive')"
   ]
  },
  {
   "cell_type": "code",
   "execution_count": 11,
   "metadata": {
    "executionInfo": {
     "elapsed": 467,
     "status": "ok",
     "timestamp": 1734813834603,
     "user": {
      "displayName": "sahil nayak",
      "userId": "10428060285450060645"
     },
     "user_tz": -330
    },
    "id": "nnounsqx5HoF"
   },
   "outputs": [],
   "source": [
    "ROOT_DIR = '/path/to/your/folder'"
   ]
  },
  {
   "cell_type": "code",
   "execution_count": null,
   "metadata": {
    "colab": {
     "base_uri": "https://localhost:8080/"
    },
    "executionInfo": {
     "elapsed": 5281,
     "status": "ok",
     "timestamp": 1734813109533,
     "user": {
      "displayName": "sahil nayak",
      "userId": "10428060285450060645"
     },
     "user_tz": -330
    },
    "id": "oxRp0kz45hWW",
    "outputId": "d2c44148-7ba3-4ef4-f19c-a95e137b2b99"
   },
   "outputs": [],
   "source": [
    "!pip install ultralytics"
   ]
  },
  {
   "cell_type": "code",
   "execution_count": null,
   "metadata": {
    "colab": {
     "base_uri": "https://localhost:8080/"
    },
    "executionInfo": {
     "elapsed": 543817,
     "status": "ok",
     "timestamp": 1734814382193,
     "user": {
      "displayName": "sahil nayak",
      "userId": "10428060285450060645"
     },
     "user_tz": -330
    },
    "id": "1_oIUHqX5mBT",
    "outputId": "dd09ff60-bd26-4313-de49-eb71a33e70b7"
   },
   "outputs": [],
   "source": [
    "import os\n",
    "from ultralytics import YOLO\n",
    "\n",
    "# Load a model\n",
    "model = YOLO(\"yolov8n.yaml\") # build a new model from scratch\n",
    "\n",
    "# Use the model\n",
    "results = model.train(data=os.path.join(ROOT_DIR, \"config.yaml\"), epochs=20) # train the model"
   ]
  },
  {
   "cell_type": "code",
   "execution_count": null,
   "metadata": {
    "colab": {
     "base_uri": "https://localhost:8080/",
     "height": 339
    },
    "executionInfo": {
     "elapsed": 572,
     "status": "error",
     "timestamp": 1734814937000,
     "user": {
      "displayName": "sahil nayak",
      "userId": "10428060285450060645"
     },
     "user_tz": -330
    },
    "id": "E4pc4h2C6FzR",
    "outputId": "d9aff322-2048-4cf6-fab0-1805ec6aa23d"
   },
   "outputs": [],
   "source": [
    "import os\n",
    "import shutil\n",
    "\n",
    "source_dir = '/content/runs'\n",
    "destination_dir = '/path/to/your/folder'\n",
    "\n",
    "for item in os.listdir(source_dir):\n",
    "    s = os.path.join(source_dir, item)\n",
    "    d = os.path.join(destination_dir, item)\n",
    "    if os.path.isdir(s):\n",
    "        shutil.copytree(s, d, dirs_exist_ok=True)  # Copy subdirectories\n",
    "    else:\n",
    "        shutil.copy2(s, d)  # Copy individual files\n"
   ]
  }
 ],
 "metadata": {
  "accelerator": "GPU",
  "colab": {
   "authorship_tag": "ABX9TyM1egAfw6R/gOnveHcpx/GU",
   "gpuType": "T4",
   "provenance": []
  },
  "kernelspec": {
   "display_name": "Python 3",
   "name": "python3"
  },
  "language_info": {
   "name": "python"
  }
 },
 "nbformat": 4,
 "nbformat_minor": 0
}
